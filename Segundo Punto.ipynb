{
 "cells": [
  {
   "attachments": {},
   "cell_type": "markdown",
   "metadata": {},
   "source": [
    "De los retos anteriores seleciones 3 funciones y escribalas con argumentos no definidos (*args)."
   ]
  },
  {
   "cell_type": "code",
   "execution_count": null,
   "metadata": {},
   "outputs": [],
   "source": [
    "\n",
    "def calcular_promedio(*args) -> float:\n",
    "    promedio: float = 0.0\n",
    "    for num in args:\n",
    "        promedio += num / len(args)\n",
    "    return promedio\n",
    "\n",
    "if __name__ == \"__main__\":\n",
    "    a = float(input(\"Ingrese el primer número: \"))\n",
    "    b = float(input(\"Ingrese el segundo número: \"))\n",
    "    c = float(input(\"Ingrese el tercer número: \"))\n",
    "    d = float(input(\"Ingrese el cuarto número: \"))\n",
    "    e = float(input(\"Ingrese el quinto número: \"))\n",
    "    \n",
    "    resultado = calcular_promedio(a, b, c, d, e)\n",
    "    print(\"El promedio de los números es:\", resultado)"
   ]
  },
  {
   "cell_type": "code",
   "execution_count": null,
   "metadata": {},
   "outputs": [],
   "source": [
    "\n",
    "def calcular_contagios(*args) -> int:\n",
    "    C, D = args\n",
    "    total_contagios = C * (2 ** D)\n",
    "    return total_contagios\n",
    "\n",
    "if __name__ == \"__main__\":\n",
    "    C = int(input(\"Ingrese el número actual de contagiados: \"))\n",
    "    D = int(input(\"Ingrese la cantidad de días a proyectar: \"))\n",
    "\n",
    "    total_contagios = calcular_contagios(C,D)\n",
    "\n",
    "    print(\"El número total de personas contagiadas después de\", D, \"días será:\", total_contagios)\n",
    "    "
   ]
  },
  {
   "cell_type": "code",
   "execution_count": null,
   "metadata": {},
   "outputs": [],
   "source": [
    "def imprimir_pares_inversos(*args) -> None:\n",
    "    for n in args:\n",
    "        if n >= 2:\n",
    "            i = n if n % 2 == 0 else n - 1\n",
    "            while i >= 2:\n",
    "                print(i)\n",
    "                i -= 2\n",
    "        else:\n",
    "            print(\"El número ingresado es menor que 2.\")\n",
    "\n",
    "if __name__ == \"__main__\":\n",
    "    n = int(input(\"Ingrese un número natural mayor o igual a 2: \"))\n",
    "    imprimir_pares_inversos(n)\n",
    "\n"
   ]
  }
 ],
 "metadata": {
  "language_info": {
   "name": "python"
  },
  "orig_nbformat": 4
 },
 "nbformat": 4,
 "nbformat_minor": 2
}
