{
 "cells": [
  {
   "attachments": {},
   "cell_type": "markdown",
   "metadata": {},
   "source": [
    "1. De los retos anteriores seleciones 3 funciones y escribalas en forma de lambdas."
   ]
  },
  {
   "cell_type": "code",
   "execution_count": null,
   "metadata": {},
   "outputs": [],
   "source": [
    "if __name__ == \"__main__\":\n",
    "  a = int(input(\"Ingrese número a: \"))\n",
    "  \n",
    "  factorial = lambda n: 1 if n == 0 else n * factorial(n-1)\n",
    "  for b in range(1, a+1):\n",
    "      resultado = 1 \n",
    "      resultado *= b\n",
    "\n",
    "print(factorial(resultado))"
   ]
  },
  {
   "cell_type": "code",
   "execution_count": null,
   "metadata": {},
   "outputs": [],
   "source": [
    "if __name__ == \"__main__\":\n",
    "  n = int(input(\"Ingrese un número: \"))\n",
    "  \n",
    "  cuadrado = lambda x: 1 if x == 0 else 2**cuadrado(x-1)\n",
    "  \n",
    "  for u in range(1,n+1): \n",
    "    resultado= 2**u\n",
    "\n",
    "print(resultado)"
   ]
  },
  {
   "cell_type": "code",
   "execution_count": null,
   "metadata": {},
   "outputs": [],
   "source": [
    "if __name__ == \"__main__\":\n",
    "  x = float(input(\"Ingrese un número: \"))\n",
    "  n = int(input(\"Ingrese otro número: \"))\n",
    "  \n",
    "  Potencia = lambda a: 1 if x == 0 else 2**cuadrado(a-1)\n",
    "  \n",
    "  for u in range(1,n+1): \n",
    "    resultado= x**u\n",
    "\n",
    "print(resultado)"
   ]
  }
 ],
 "metadata": {
  "language_info": {
   "name": "python"
  },
  "orig_nbformat": 4
 },
 "nbformat": 4,
 "nbformat_minor": 2
}
